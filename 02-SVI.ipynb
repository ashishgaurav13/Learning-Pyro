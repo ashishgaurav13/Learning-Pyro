{
 "cells": [
  {
   "cell_type": "markdown",
   "metadata": {},
   "source": [
    "We are given a model $p_\\theta(x,z) = p_\\theta(z) p_\\theta(x|z)$, where $\\theta$ are the parameters, $z$ are the latent variables, and $x$ are the observations. We wish to learn the posterior $p_{\\theta^*}(z|x)$ where $\\theta^*$ are parameters where the evidence $p_\\theta(x)$ is maximized. To do so, we assume a distribution $q_\\phi(z)$ and do variational inference. To do variational inference, we maximize evidence lower bound, or ELBO.\n",
    "\n",
    "$ELBO = \\mathbb E_{q_\\phi(z)}[\\log p_\\theta(x,z)-\\log q_\\phi(z)]$"
   ]
  },
  {
   "cell_type": "code",
   "execution_count": 46,
   "metadata": {},
   "outputs": [],
   "source": [
    "import torch\n",
    "import pyro\n",
    "import matplotlib.pyplot as plt\n",
    "import tqdm\n",
    "import math"
   ]
  },
  {
   "cell_type": "markdown",
   "metadata": {},
   "source": [
    "### Example\n",
    "\n",
    "Prior = $p(\\theta) = Beta(10, 10)$<br>\n",
    "We observe data about the coin using a Bernoulli likelihood.<br>\n",
    "Likelihood = $p(X_i| \\theta) = Ber(X_i; \\theta)$ where $\\theta \\sim p(\\theta)$<br>\n",
    "To find the posterior, we assume a variational distribution $Beta(a,b)$"
   ]
  },
  {
   "cell_type": "code",
   "execution_count": 38,
   "metadata": {},
   "outputs": [],
   "source": [
    "def model(data):\n",
    "    theta = pyro.sample(\"theta\", pyro.distributions.Beta(10., 10.))\n",
    "    for i, X_i in enumerate(data):\n",
    "        pyro.sample(\"X_%d\" % i, pyro.distributions.Bernoulli(theta), obs = X_i)"
   ]
  },
  {
   "cell_type": "code",
   "execution_count": 39,
   "metadata": {},
   "outputs": [],
   "source": [
    "def guide(data):\n",
    "    a = pyro.param(\"a\", torch.tensor(15.))\n",
    "    b = pyro.param(\"b\", torch.tensor(15.), constraint = torch.distributions.constraints.positive)\n",
    "    pyro.sample(\"theta\", pyro.distributions.Beta(a, b))"
   ]
  },
  {
   "cell_type": "code",
   "execution_count": 48,
   "metadata": {},
   "outputs": [],
   "source": [
    "optimizer = pyro.optim.Adam({\"lr\": 0.0005, \"betas\": (0.90, 0.999)})"
   ]
  },
  {
   "cell_type": "code",
   "execution_count": 49,
   "metadata": {},
   "outputs": [],
   "source": [
    "svi = pyro.infer.SVI(model, guide, optimizer, loss = pyro.infer.Trace_ELBO())"
   ]
  },
  {
   "cell_type": "code",
   "execution_count": 50,
   "metadata": {},
   "outputs": [],
   "source": [
    "data = [torch.tensor(0.) for _ in range(4)] + [torch.tensor(1.) for _ in range(6)]"
   ]
  },
  {
   "cell_type": "code",
   "execution_count": 51,
   "metadata": {},
   "outputs": [
    {
     "name": "stderr",
     "output_type": "stream",
     "text": [
      "100%|██████████| 5000/5000 [00:34<00:00, 146.20it/s]\n"
     ]
    },
    {
     "data": {
      "text/plain": [
       "[<matplotlib.lines.Line2D at 0x7fec43be9f70>]"
      ]
     },
     "execution_count": 51,
     "metadata": {},
     "output_type": "execute_result"
    },
    {
     "data": {
      "image/png": "[encoded data removed]",
      "text/plain": [
       "<Figure size 432x288 with 1 Axes>"
      ]
     },
     "metadata": {
      "needs_background": "light"
     },
     "output_type": "display_data"
    }
   ],
   "source": [
    "losses = []\n",
    "for step in tqdm.tqdm(range(5000)):\n",
    "    svi.step(data)\n",
    "    losses += [svi.evaluate_loss(data)]\n",
    "plt.plot(range(5000), losses)"
   ]
  },
  {
   "cell_type": "code",
   "execution_count": 45,
   "metadata": {},
   "outputs": [],
   "source": [
    "a, b = pyro.param(\"a\").item(), pyro.param(\"b\").item()"
   ]
  },
  {
   "cell_type": "code",
   "execution_count": 47,
   "metadata": {},
   "outputs": [
    {
     "data": {
      "text/plain": [
       "(0.5070804246098672, 0.25307192027316433)"
      ]
     },
     "execution_count": 47,
     "metadata": {},
     "output_type": "execute_result"
    }
   ],
   "source": [
    "a/(a+b), (a/(a+b))*math.sqrt(b/(a*(1+a+b)))"
   ]
  },
  {
   "cell_type": "code",
   "execution_count": null,
   "metadata": {},
   "outputs": [],
   "source": []
  }
 ],
 "metadata": {
  "kernelspec": {
   "display_name": "Python 3",
   "language": "python",
   "name": "python3"
  },
  "language_info": {
   "codemirror_mode": {
    "name": "ipython",
    "version": 3
   },
   "file_extension": ".py",
   "mimetype": "text/x-python",
   "name": "python",
   "nbconvert_exporter": "python",
   "pygments_lexer": "ipython3",
   "version": "3.8.2"
  }
 },
 "nbformat": 4,
 "nbformat_minor": 4
}
